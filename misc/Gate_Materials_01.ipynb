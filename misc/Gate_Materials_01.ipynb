{
  "nbformat": 4,
  "nbformat_minor": 0,
  "metadata": {
    "colab": {
      "name": "Gate Materials_01.ipynb",
      "provenance": [],
      "collapsed_sections": []
    },
    "kernelspec": {
      "name": "python3",
      "display_name": "Python 3"
    }
  },
  "cells": [
    {
      "cell_type": "code",
      "metadata": {
        "id": "JIEcwl4mWIU4",
        "colab_type": "code",
        "colab": {}
      },
      "source": [
        "import os\n",
        "import shutil\n",
        "import time"
      ],
      "execution_count": 0,
      "outputs": []
    },
    {
      "cell_type": "code",
      "metadata": {
        "id": "bwhiAHLq-VoX",
        "colab_type": "code",
        "outputId": "613b4785-79d1-47cb-9ee1-e5dba482ed8b",
        "colab": {
          "base_uri": "https://localhost:8080/",
          "height": 54
        }
      },
      "source": [
        "from google.colab import drive\n",
        "drive.mount('/content/drive')"
      ],
      "execution_count": 0,
      "outputs": [
        {
          "output_type": "stream",
          "text": [
            "Drive already mounted at /content/drive; to attempt to forcibly remount, call drive.mount(\"/content/drive\", force_remount=True).\n"
          ],
          "name": "stdout"
        }
      ]
    },
    {
      "cell_type": "code",
      "metadata": {
        "id": "hBm_aM2A_Fvi",
        "colab_type": "code",
        "colab": {}
      },
      "source": [
        "path_drive = \"/content/drive/My Drive/ Gate Lectures\""
      ],
      "execution_count": 0,
      "outputs": []
    },
    {
      "cell_type": "code",
      "metadata": {
        "id": "4ekT9kJPduzA",
        "colab_type": "code",
        "colab": {}
      },
      "source": [
        "Mathematics = path_drive + \"/0.Maths\"\n",
        "Aptitude = path_drive + \"/01.Aptitude\"\n",
        "Theory_Of_Computation = path_drive + \"/1.TOC\"\n",
        "Compiler_Design = path_drive + \"/2.CD\"\n",
        "Sequential_Combinational_Logic_Design = path_drive + \"/3.SCLD\"\n",
        "Computer_Networks = path_drive + \"/4.CN\"\n",
        "Operating_System = path_drive + \"/5.Operating_Systems\"\n",
        "DataBase_Management_System = path_drive + \"/6.Databases\"\n",
        "Algorithms = path_drive + \"/7.Alogorithims\"\n",
        "Programming_and_Data_Structure = path_drive + \"/8.PDS\"\n",
        "Computer_Architecture = path_drive + \"/9.COA\"\n",
        "General_Tips = path_drive + \"/General_Tips\"\n",
        "Web_Technology = path_drive + \"/Web Tecnology notes\""
      ],
      "execution_count": 0,
      "outputs": []
    },
    {
      "cell_type": "code",
      "metadata": {
        "id": "1pXrYiDtrcte",
        "colab_type": "code",
        "colab": {}
      },
      "source": [
        "sub = [Mathematics, Aptitude, Theory_Of_Computation, Compiler_Design, Sequential_Combinational_Logic_Design, Computer_Networks, Operating_System, DataBase_Management_System, Algorithms, Programming_and_Data_Structure, Computer_Architecture, General_Tips, Web_Technology]\n",
        "sub_str = [\"Mathematics\", \"Aptitude\", \"Theory_Of_Computation\", \"Compiler_Design\", \"Sequential_Combinational_Logic_Design\", \"Computer_Networks\", \"Operating_System\", \"DataBase_Management_System\", \"Algorithms\", \"Programming_and_Data_Structure\", \"Computer_Architecture\", \"General_Tips\", \"Web_Technology\"]"
      ],
      "execution_count": 0,
      "outputs": []
    },
    {
      "cell_type": "code",
      "metadata": {
        "id": "NofgNTPso1n7",
        "colab_type": "code",
        "outputId": "843ace1e-27aa-4c03-d405-547f4670f110",
        "colab": {
          "base_uri": "https://localhost:8080/",
          "height": 171
        }
      },
      "source": [
        "from tqdm import tqdm\n",
        "s = 2\n",
        "e = 2\n",
        "\n",
        "\n",
        "for i in range(len(sub)):\n",
        "\n",
        "  if(i>=s and i<=e):\n",
        "    print(\"Compressing Subject : \", sub_str[i])\n",
        "    source = sub[i]\n",
        "    destination = \"/content/\" + sub_str[i]\n",
        "    start = time.time()\n",
        "    shutil.make_archive(destination, 'zip', source)\n",
        "    end = time.time()\n",
        "    print(\"Compressing done for subject : \", sub_str[i], \" and the time required is : \",((end-start)/60), \" minutes.\\n\\n\\n\")"
      ],
      "execution_count": 0,
      "outputs": [
        {
          "output_type": "stream",
          "text": [
            "\n",
            "  0%|          | 0/13 [00:00<?, ?it/s]\u001b[A"
          ],
          "name": "stderr"
        },
        {
          "output_type": "stream",
          "text": [
            "Compressing Subject :  Theory_Of_Computation\n"
          ],
          "name": "stdout"
        },
        {
          "output_type": "stream",
          "text": [
            "\n",
            "100%|██████████| 13/13 [11:35<00:00, 53.52s/it]"
          ],
          "name": "stderr"
        },
        {
          "output_type": "stream",
          "text": [
            "Compressing done for subject :  Theory_Of_Computation  and the time required is :  11.595552762349447  minutes.\n",
            "\n",
            "\n",
            "\n"
          ],
          "name": "stdout"
        },
        {
          "output_type": "stream",
          "text": [
            "\n"
          ],
          "name": "stderr"
        }
      ]
    },
    {
      "cell_type": "code",
      "metadata": {
        "id": "Xpg_XqlDyuJ6",
        "colab_type": "code",
        "outputId": "ca1b1d42-0550-4b5b-be2c-41c8a61ae991",
        "colab": {
          "base_uri": "https://localhost:8080/",
          "height": 34
        }
      },
      "source": [
        "print(\"Hurrah Job Done...!!\")"
      ],
      "execution_count": 0,
      "outputs": [
        {
          "output_type": "stream",
          "text": [
            "Hurrah Job Done...!!\n"
          ],
          "name": "stdout"
        }
      ]
    }
  ]
}