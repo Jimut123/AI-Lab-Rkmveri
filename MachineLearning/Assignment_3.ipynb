{
 "cells": [
  {
   "cell_type": "code",
   "execution_count": 1,
   "metadata": {},
   "outputs": [],
   "source": [
    "import matplotlib.pyplot as plt\n",
    "import numpy as np\n",
    "from sklearn.model_selection import train_test_split\n",
    "from sklearn.preprocessing import PolynomialFeatures\n",
    "from sklearn.linear_model import LinearRegression\n",
    "from sklearn.linear_model import Lasso\n",
    "from sklearn.metrics import mean_squared_error"
   ]
  },
  {
   "cell_type": "code",
   "execution_count": 2,
   "metadata": {},
   "outputs": [],
   "source": [
    "#Number of data points\n",
    "N=1000\n",
    "\n",
    "#Mean and variance of the normal distribution\n",
    "#from which the data is taken\n",
    "mu = 5\n",
    "sigma = 4\n",
    "\n",
    "#The parameters for the second order polynomial from \n",
    "#which the data is to be generated\n",
    "A=4\n",
    "B=5\n",
    "C=9\n",
    "\n",
    "#alphas for LASSO regression\n",
    "alphas = np.linspace(start=0.00001, stop=0.1, num=500)"
   ]
  },
  {
   "cell_type": "code",
   "execution_count": 3,
   "metadata": {},
   "outputs": [],
   "source": [
    "#generating the X data\n",
    "X = np.random.normal(mu, sigma, size=(N, 1))\n",
    "\n",
    "#generating the Y data using a second order polynomial\n",
    "#and adding some gaussian noise\n",
    "Y = A*X + B*(X**2) + C + np.random.randn(N,1)\n",
    "\n",
    "#Using the PolynomialFeatures model to \n",
    "#generate a 10th order polynomial from our train set\n",
    "poly_features = PolynomialFeatures(degree=10, include_bias=False)\n",
    "X_poly = poly_features.fit_transform(X)\n",
    "\n",
    "#splitting the data into train and test sets\n",
    "X_train_poly, X_test_poly, Y_train, Y_test = train_test_split(X_poly, Y, test_size=0.20, random_state=55)"
   ]
  },
  {
   "cell_type": "code",
   "execution_count": 4,
   "metadata": {},
   "outputs": [
    {
     "name": "stdout",
     "output_type": "stream",
     "text": [
      "The mean squared error is 0.8596315987756866\n"
     ]
    }
   ],
   "source": [
    "#creating a linear model and fitting our\n",
    "#10th order polynomial\n",
    "lin_reg = LinearRegression()\n",
    "lin_reg.fit(X_train_poly, Y_train)\n",
    "\n",
    "#fitting the trained model to the test data\n",
    "Y_pred = lin_reg.predict(X_test_poly)\n",
    "\n",
    "RMSE = mean_squared_error(Y_pred, Y_test)\n",
    "\n",
    "print(\"The mean squared error is\", RMSE)"
   ]
  },
  {
   "cell_type": "code",
   "execution_count": 5,
   "metadata": {},
   "outputs": [
    {
     "data": {
      "text/plain": [
       "Text(0.5, 1.0, 'Error vs. Regularization Coefficient')"
      ]
     },
     "execution_count": 5,
     "metadata": {},
     "output_type": "execute_result"
    },
    {
     "data": {
      "image/png": "[encoded data removed]",
      "text/plain": [
       "<Figure size 432x288 with 1 Axes>"
      ]
     },
     "metadata": {
      "needs_background": "light"
     },
     "output_type": "display_data"
    }
   ],
   "source": [
    "#create the mean squared errors for different values of alpha\n",
    "RSMEs = []\n",
    "for alpha in alphas:\n",
    "    lasso_reg = Lasso(alpha=alpha, fit_intercept=True, normalize=True)\n",
    "    lasso_reg.fit(X_train_poly, Y_train)\n",
    "    Y_pred = lasso_reg.predict(X_test_poly)\n",
    "    RSMEs.append(mean_squared_error(Y_pred, Y_test))\n",
    "\n",
    "#plotting the error versus the regularization coefficient\n",
    "plt.plot(alphas, RSMEs)\n",
    "plt.ylabel(\"Mean Squared Error\")\n",
    "plt.xlabel(\"Regularization Coefficient\")\n",
    "plt.title(\"Error vs. Regularization Coefficient\")"
   ]
  },
  {
   "cell_type": "code",
   "execution_count": null,
   "metadata": {},
   "outputs": [],
   "source": []
  }
 ],
 "metadata": {
  "kernelspec": {
   "display_name": "Python 3",
   "language": "python",
   "name": "python3"
  },
  "language_info": {
   "codemirror_mode": {
    "name": "ipython",
    "version": 3
   },
   "file_extension": ".py",
   "mimetype": "text/x-python",
   "name": "python",
   "nbconvert_exporter": "python",
   "pygments_lexer": "ipython3",
   "version": "3.8.1"
  }
 },
 "nbformat": 4,
 "nbformat_minor": 2
}
